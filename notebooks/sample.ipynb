{
 "cells": [
  {
   "cell_type": "code",
   "execution_count": 3,
   "id": "cfe68265-2187-4c97-92b2-b3cda6a10cab",
   "metadata": {},
   "outputs": [],
   "source": [
    "import os\n",
    "import sys\n",
    "from pathlib import Path"
   ]
  },
  {
   "cell_type": "code",
   "execution_count": 4,
   "id": "0abae864-95b1-4e9d-a88d-1ec728f00403",
   "metadata": {},
   "outputs": [],
   "source": [
    "sys.path.append(os.path.join(Path().resolve(), '../src'))"
   ]
  },
  {
   "cell_type": "code",
   "execution_count": 5,
   "id": "58c723e5-91ed-41dd-9a04-cd082c6e5716",
   "metadata": {},
   "outputs": [],
   "source": [
    "import random\n",
    "import pandas as pd\n",
    "import pubchempy as pcp\n",
    "from rdkit import Chem\n",
    "from rdkit.Chem import MolStandardize, AllChem"
   ]
  },
  {
   "cell_type": "code",
   "execution_count": 10,
   "id": "b017a203-0fdc-4df6-9d9c-5f2363d69e04",
   "metadata": {},
   "outputs": [],
   "source": [
    "from submodules import hoge"
   ]
  },
  {
   "cell_type": "code",
   "execution_count": 13,
   "id": "045755dd-8926-43bf-9b9d-c3b447f29767",
   "metadata": {},
   "outputs": [
    {
     "name": "stderr",
     "output_type": "stream",
     "text": [
      "2021-05-17 14:13:34 submodules.submodule[hoge]: [INFO] hoge\n"
     ]
    }
   ],
   "source": [
    "hoge()"
   ]
  },
  {
   "cell_type": "code",
   "execution_count": null,
   "id": "4df15114-529b-41d8-a335-83778fdda45e",
   "metadata": {},
   "outputs": [],
   "source": []
  }
 ],
 "metadata": {
  "kernelspec": {
   "display_name": "Python 3",
   "language": "python",
   "name": "python3"
  },
  "language_info": {
   "codemirror_mode": {
    "name": "ipython",
    "version": 3
   },
   "file_extension": ".py",
   "mimetype": "text/x-python",
   "name": "python",
   "nbconvert_exporter": "python",
   "pygments_lexer": "ipython3",
   "version": "3.7.3"
  }
 },
 "nbformat": 4,
 "nbformat_minor": 5
}
